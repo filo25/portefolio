{
  "nbformat": 4,
  "nbformat_minor": 0,
  "metadata": {
    "colab": {
      "provenance": []
    },
    "kernelspec": {
      "name": "python3",
      "display_name": "Python 3"
    },
    "language_info": {
      "name": "python"
    }
  },
  "cells": [
    {
      "cell_type": "markdown",
      "source": [
        "# Forecasting of bike rentals, based on time series including different weather parameters"
      ],
      "metadata": {
        "id": "6lY-bWngbrb6"
      }
    },
    {
      "cell_type": "code",
      "execution_count": null,
      "metadata": {
        "id": "PqU4rF_FCVdR"
      },
      "outputs": [],
      "source": [
        "import numpy as np\n",
        "import torch\n",
        "import torch.nn.functional as F"
      ]
    },
    {
      "cell_type": "code",
      "source": [
        "from google.colab import drive\n",
        "drive.mount('/content/drive')"
      ],
      "metadata": {
        "colab": {
          "base_uri": "https://localhost:8080/"
        },
        "id": "yC_Ru5NVCand",
        "outputId": "45347a8c-d7c9-4ce3-ef0b-536fcbfbde6b"
      },
      "execution_count": null,
      "outputs": [
        {
          "output_type": "stream",
          "name": "stdout",
          "text": [
            "Mounted at /content/drive\n"
          ]
        }
      ]
    },
    {
      "cell_type": "code",
      "source": [
        "import os\n",
        "os.environ[\"KERAS_BACKEND\"] = \"jax\"\n",
        "import zipfile"
      ],
      "metadata": {
        "id": "W0jQEVMDCxor"
      },
      "execution_count": null,
      "outputs": []
    },
    {
      "cell_type": "code",
      "source": [
        "!cp \"/content/drive/My Drive/Datasets/bike-sharing-dataset.zip\" ."
      ],
      "metadata": {
        "id": "RLBhflV7C3vy"
      },
      "execution_count": null,
      "outputs": []
    },
    {
      "cell_type": "code",
      "source": [
        "with zipfile.ZipFile(\"./bike-sharing-dataset.zip\") as z:\n",
        "  #z.printdir()\n",
        "  z.extractall()"
      ],
      "metadata": {
        "id": "N3vM3i3qC5cn"
      },
      "execution_count": null,
      "outputs": []
    },
    {
      "cell_type": "code",
      "source": [
        "!head -n 10 hour-fixed.csv"
      ],
      "metadata": {
        "colab": {
          "base_uri": "https://localhost:8080/"
        },
        "id": "o9D2xN3rE9Es",
        "outputId": "0736c58c-4f38-46d8-c0e5-7aa97a0e38b3"
      },
      "execution_count": null,
      "outputs": [
        {
          "output_type": "stream",
          "name": "stdout",
          "text": [
            "instant,dteday,season,yr,mnth,hr,holiday,weekday,workingday,weathersit,temp,atemp,hum,windspeed,casual,registered,cnt\r\n",
            "1,2011-01-01,1,0,1,0,0,6,0,1,0.24,0.2879,0.81,0,3,13,16\r\n",
            "2,2011-01-01,1,0,1,1,0,6,0,1,0.22,0.2727,0.8,0,8,32,40\r\n",
            "3,2011-01-01,1,0,1,2,0,6,0,1,0.22,0.2727,0.8,0,5,27,32\r\n",
            "4,2011-01-01,1,0,1,3,0,6,0,1,0.24,0.2879,0.75,0,3,10,13\r\n",
            "5,2011-01-01,1,0,1,4,0,6,0,1,0.24,0.2879,0.75,0,0,1,1\r\n",
            "6,2011-01-01,1,0,1,5,0,6,0,2,0.24,0.2576,0.75,0.0896,0,1,1\r\n",
            "7,2011-01-01,1,0,1,6,0,6,0,1,0.22,0.2727,0.8,0,2,0,2\r\n",
            "8,2011-01-01,1,0,1,7,0,6,0,1,0.2,0.2576,0.86,0,1,2,3\r\n",
            "9,2011-01-01,1,0,1,8,0,6,0,1,0.24,0.2879,0.75,0,1,7,8\r\n"
          ]
        }
      ]
    },
    {
      "cell_type": "code",
      "source": [
        "\"2011-01-01\"[8:10]"
      ],
      "metadata": {
        "colab": {
          "base_uri": "https://localhost:8080/",
          "height": 35
        },
        "id": "mFpdyhBNFB-Y",
        "outputId": "d1aaad3e-5806-451c-bc50-0a9d615662bf"
      },
      "execution_count": null,
      "outputs": [
        {
          "output_type": "execute_result",
          "data": {
            "text/plain": [
              "'01'"
            ],
            "application/vnd.google.colaboratory.intrinsic+json": {
              "type": "string"
            }
          },
          "metadata": {},
          "execution_count": 24
        }
      ]
    },
    {
      "cell_type": "code",
      "source": [
        "# conversion on first row - it can't parse it into a number because it is a date \"2011-01-01\"\n",
        "# transform the date [8-10] into a date\n",
        "bikes_np = np.loadtxt(\"hour-fixed.csv\", dtype=np.float32, delimiter=\",\", skiprows=1,\n",
        "                      converters={1: lambda x: float(x[8:10])})"
      ],
      "metadata": {
        "id": "GzHrERLOC6qg"
      },
      "execution_count": null,
      "outputs": []
    },
    {
      "cell_type": "code",
      "source": [
        "bikes = torch.from_numpy(bikes_np)"
      ],
      "metadata": {
        "id": "696h5ZWaDCpb"
      },
      "execution_count": null,
      "outputs": []
    },
    {
      "cell_type": "code",
      "source": [
        "features = ['instant', 'day', 'season', 'year', 'month', 'hour', 'holiday', 'weekday', 'workingday', 'weathersituation', 'temperature', 'perceivedtemperature', 'humidity', 'windspeed', 'casual', 'registerdusers', 'rentalcounts']"
      ],
      "metadata": {
        "id": "qrXqBfyRC8iX"
      },
      "execution_count": null,
      "outputs": []
    },
    {
      "cell_type": "code",
      "source": [
        "# 17,520 hours, 17 columns\n",
        "bikes.shape, bikes.stride()"
      ],
      "metadata": {
        "colab": {
          "base_uri": "https://localhost:8080/"
        },
        "id": "YNzPoNF8DEhk",
        "outputId": "96098c25-d9e1-40e8-97d1-f0e32c9f0fe9"
      },
      "execution_count": null,
      "outputs": [
        {
          "output_type": "execute_result",
          "data": {
            "text/plain": [
              "(torch.Size([17520, 17]), (17, 1))"
            ]
          },
          "metadata": {},
          "execution_count": 9
        }
      ]
    },
    {
      "cell_type": "code",
      "source": [
        "torch.unique(bikes[:,9])"
      ],
      "metadata": {
        "colab": {
          "base_uri": "https://localhost:8080/"
        },
        "id": "EnbSjkYKDLQ1",
        "outputId": "de1b1ca6-85bb-42df-a6ad-062b2fe83a86"
      },
      "execution_count": null,
      "outputs": [
        {
          "output_type": "execute_result",
          "data": {
            "text/plain": [
              "tensor([1., 2., 3., 4.])"
            ]
          },
          "metadata": {},
          "execution_count": 9
        }
      ]
    },
    {
      "cell_type": "code",
      "source": [
        "weather_onehot = torch.zeros(bikes.shape[0], len(torch.unique(bikes[:,9])))\n",
        "weather_onehot.shape"
      ],
      "metadata": {
        "colab": {
          "base_uri": "https://localhost:8080/"
        },
        "id": "TNemE5BTDUVP",
        "outputId": "5b730e2d-4a14-40f6-8600-ade59f06470b"
      },
      "execution_count": null,
      "outputs": [
        {
          "output_type": "execute_result",
          "data": {
            "text/plain": [
              "torch.Size([17520, 4])"
            ]
          },
          "metadata": {},
          "execution_count": 9
        }
      ]
    },
    {
      "cell_type": "code",
      "source": [
        "# -1 because we have set of values {1, 2, 3, 4}\n",
        "weather_onehot.scatter_(dim=1, index=bikes[:,9].long().unsqueeze(1) - 1, value=1.0)"
      ],
      "metadata": {
        "colab": {
          "base_uri": "https://localhost:8080/"
        },
        "id": "q11ZBVBTDYGB",
        "outputId": "c46d92d0-0432-4e65-ed50-c87b96835094"
      },
      "execution_count": null,
      "outputs": [
        {
          "output_type": "execute_result",
          "data": {
            "text/plain": [
              "tensor([[1., 0., 0., 0.],\n",
              "        [1., 0., 0., 0.],\n",
              "        [1., 0., 0., 0.],\n",
              "        ...,\n",
              "        [1., 0., 0., 0.],\n",
              "        [1., 0., 0., 0.],\n",
              "        [1., 0., 0., 0.]])"
            ]
          },
          "metadata": {},
          "execution_count": 10
        }
      ]
    },
    {
      "cell_type": "code",
      "source": [
        "bikes.shape, torch.cat((bikes, weather_onehot), 1).shape"
      ],
      "metadata": {
        "colab": {
          "base_uri": "https://localhost:8080/"
        },
        "id": "zWZ02RCHDZb1",
        "outputId": "c21a0e82-98cd-4081-bbc3-4e96108e8569"
      },
      "execution_count": null,
      "outputs": [
        {
          "output_type": "execute_result",
          "data": {
            "text/plain": [
              "(torch.Size([17520, 17]), torch.Size([17520, 21]))"
            ]
          },
          "metadata": {},
          "execution_count": 11
        }
      ]
    },
    {
      "cell_type": "code",
      "source": [
        "# remove the weather situation column\n",
        "bikes2 = torch.cat((bikes[:,:9], bikes[:,10:]), 1)"
      ],
      "metadata": {
        "id": "rVP16LHkDq8i"
      },
      "execution_count": null,
      "outputs": []
    },
    {
      "cell_type": "code",
      "source": [
        "bikes2[0,:], bikes2.shape"
      ],
      "metadata": {
        "colab": {
          "base_uri": "https://localhost:8080/"
        },
        "id": "hCdyMojVEZsZ",
        "outputId": "ab92f03d-4cfd-4525-b391-7e1c63f1d368"
      },
      "execution_count": null,
      "outputs": [
        {
          "output_type": "execute_result",
          "data": {
            "text/plain": [
              "(tensor([ 1.0000,  1.0000,  1.0000,  0.0000,  1.0000,  0.0000,  0.0000,  6.0000,\n",
              "          0.0000,  0.2400,  0.2879,  0.8100,  0.0000,  3.0000, 13.0000, 16.0000]),\n",
              " torch.Size([17520, 16]))"
            ]
          },
          "metadata": {},
          "execution_count": 15
        }
      ]
    },
    {
      "cell_type": "code",
      "source": [
        "# add the one-hot weather situation\n",
        "bikes3 = torch.cat((bikes2, weather_onehot), 1)"
      ],
      "metadata": {
        "id": "jf1Iwf7FEkn1"
      },
      "execution_count": null,
      "outputs": []
    },
    {
      "cell_type": "code",
      "source": [
        "# one-hot at the end\n",
        "bikes3[0,:], bikes3.shape"
      ],
      "metadata": {
        "colab": {
          "base_uri": "https://localhost:8080/"
        },
        "id": "LvbnTojd-1-P",
        "outputId": "a3adbb83-b203-471a-db38-e191c4211450"
      },
      "execution_count": null,
      "outputs": [
        {
          "output_type": "execute_result",
          "data": {
            "text/plain": [
              "(tensor([ 1.0000,  1.0000,  1.0000,  0.0000,  1.0000,  0.0000,  0.0000,  6.0000,\n",
              "          0.0000,  0.2400,  0.2879,  0.8100,  0.0000,  3.0000, 13.0000, 16.0000,\n",
              "          1.0000,  0.0000,  0.0000,  0.0000]),\n",
              " torch.Size([17520, 20]))"
            ]
          },
          "metadata": {},
          "execution_count": 23
        }
      ]
    },
    {
      "cell_type": "code",
      "source": [
        "# temperatures and the like seem to be already normalized\n",
        "#bikes3[:,10] = torch.nn.functional.normalize(bikes[:,10], dim=0)\n",
        "#bikes3[:,11] = torch.nn.functional.normalize(bikes[:,11], dim=0)"
      ],
      "metadata": {
        "id": "o0t_l0iKEtsH"
      },
      "execution_count": null,
      "outputs": []
    },
    {
      "cell_type": "code",
      "source": [
        "# statistics of rental counts\n",
        "bikes[:,16].min(), bikes[:,16].max(), bikes[:,16].mean(), bikes[:,16].median()"
      ],
      "metadata": {
        "colab": {
          "base_uri": "https://localhost:8080/"
        },
        "id": "l9K8e6OhFjEJ",
        "outputId": "ce23e0d9-f126-414b-c654-beaaf003082e"
      },
      "execution_count": null,
      "outputs": [
        {
          "output_type": "execute_result",
          "data": {
            "text/plain": [
              "(tensor(0.), tensor(977.), tensor(187.9383), tensor(140.))"
            ]
          },
          "metadata": {},
          "execution_count": 13
        }
      ]
    },
    {
      "cell_type": "code",
      "source": [
        "# first column to remove: perform this earlier along with weather situation removal [!]\n",
        "bikes3[:32,0], bikes3[:32,1]"
      ],
      "metadata": {
        "colab": {
          "base_uri": "https://localhost:8080/"
        },
        "id": "aHvbblPIF6In",
        "outputId": "4d1d8072-6e4b-47fa-9bd3-9ea3b4d05289"
      },
      "execution_count": null,
      "outputs": [
        {
          "output_type": "execute_result",
          "data": {
            "text/plain": [
              "(tensor([ 1.,  2.,  3.,  4.,  5.,  6.,  7.,  8.,  9., 10., 11., 12., 13., 14.,\n",
              "         15., 16., 17., 18., 19., 20., 21., 22., 23., 24., 25., 26., 27., 28.,\n",
              "         29., 29., 30., 31.]),\n",
              " tensor([1., 1., 1., 1., 1., 1., 1., 1., 1., 1., 1., 1., 1., 1., 1., 1., 1., 1.,\n",
              "         1., 1., 1., 1., 1., 1., 2., 2., 2., 2., 2., 2., 2., 2.]))"
            ]
          },
          "metadata": {},
          "execution_count": 31
        }
      ]
    },
    {
      "cell_type": "code",
      "source": [
        "bikes3[0,:]"
      ],
      "metadata": {
        "colab": {
          "base_uri": "https://localhost:8080/"
        },
        "id": "W2IDf-qkHnRH",
        "outputId": "5268cfdf-90bd-4a2f-ec05-1eb522b71063"
      },
      "execution_count": null,
      "outputs": [
        {
          "output_type": "execute_result",
          "data": {
            "text/plain": [
              "tensor([ 1.0000,  1.0000,  1.0000,  0.0000,  1.0000,  0.0000,  0.0000,  6.0000,\n",
              "         0.0000,  0.2400,  0.2879,  0.8100,  0.0000,  3.0000, 13.0000, 16.0000,\n",
              "         1.0000,  0.0000,  0.0000,  0.0000])"
            ]
          },
          "metadata": {},
          "execution_count": 38
        }
      ]
    },
    {
      "cell_type": "code",
      "source": [
        "# what's this ?\n",
        "# look at registered and rental counts\n",
        "# rental counts must be removed earlier as well [!]\n",
        "torch.cat((bikes3[0,:15], bikes3[0,16:]))"
      ],
      "metadata": {
        "colab": {
          "base_uri": "https://localhost:8080/"
        },
        "id": "eItTQWg3Ht2E",
        "outputId": "dbbe4783-b9eb-4982-ea5d-d5415557e85c"
      },
      "execution_count": null,
      "outputs": [
        {
          "output_type": "execute_result",
          "data": {
            "text/plain": [
              "tensor([ 1.0000,  1.0000,  1.0000,  0.0000,  1.0000,  0.0000,  0.0000,  6.0000,\n",
              "         0.0000,  0.2400,  0.2879,  0.8100,  0.0000,  3.0000, 13.0000,  1.0000,\n",
              "         0.0000,  0.0000,  0.0000])"
            ]
          },
          "metadata": {},
          "execution_count": 24
        }
      ]
    },
    {
      "cell_type": "code",
      "source": [
        "bikes3.shape"
      ],
      "metadata": {
        "colab": {
          "base_uri": "https://localhost:8080/"
        },
        "id": "_mWctOb0GIPB",
        "outputId": "b5eb8059-3894-44d8-a384-03f9ab0f965a"
      },
      "execution_count": null,
      "outputs": [
        {
          "output_type": "execute_result",
          "data": {
            "text/plain": [
              "torch.Size([17520, 20])"
            ]
          },
          "metadata": {},
          "execution_count": 32
        }
      ]
    },
    {
      "cell_type": "code",
      "source": [
        "# drop index and target columns\n",
        "# following the concatenations, the target column is followed by the weather-one-hot\n",
        "bikes4 = torch.cat((bikes3[:,1:15], bikes3[:,16:]), 1)\n",
        "bikes4.shape"
      ],
      "metadata": {
        "colab": {
          "base_uri": "https://localhost:8080/"
        },
        "id": "d7HZwJxIGhbI",
        "outputId": "72a9d6b9-4878-44bb-9c12-0d52a1d6e280"
      },
      "execution_count": null,
      "outputs": [
        {
          "output_type": "execute_result",
          "data": {
            "text/plain": [
              "torch.Size([17520, 18])"
            ]
          },
          "metadata": {},
          "execution_count": 13
        }
      ]
    },
    {
      "cell_type": "code",
      "source": [
        "# 13 and 32 correspond to the registered counts\n",
        "bikes4[:2,:]"
      ],
      "metadata": {
        "colab": {
          "base_uri": "https://localhost:8080/"
        },
        "id": "PPsjZR2_G-RC",
        "outputId": "e0175043-d94d-4321-81f5-c0e80722c783"
      },
      "execution_count": null,
      "outputs": [
        {
          "output_type": "execute_result",
          "data": {
            "text/plain": [
              "tensor([[ 1.0000,  1.0000,  0.0000,  1.0000,  0.0000,  0.0000,  6.0000,  0.0000,\n",
              "          0.2400,  0.2879,  0.8100,  0.0000,  3.0000, 13.0000,  1.0000,  0.0000,\n",
              "          0.0000,  0.0000],\n",
              "        [ 1.0000,  1.0000,  0.0000,  1.0000,  1.0000,  0.0000,  6.0000,  0.0000,\n",
              "          0.2200,  0.2727,  0.8000,  0.0000,  8.0000, 32.0000,  1.0000,  0.0000,\n",
              "          0.0000,  0.0000]])"
            ]
          },
          "metadata": {},
          "execution_count": 27
        }
      ]
    },
    {
      "cell_type": "code",
      "source": [
        "# groups by 24 to have daily time series to feed torch\n",
        "#y = bikes3[:,15].view(-1, 24).long()\n",
        "y = bikes3[:,15].view(-1, 24)\n",
        "y.shape, y.stride()"
      ],
      "metadata": {
        "colab": {
          "base_uri": "https://localhost:8080/"
        },
        "id": "53DPGJjJIZFs",
        "outputId": "f1724be7-aa0e-4a1f-ed94-e6e205ff4b55"
      },
      "execution_count": null,
      "outputs": [
        {
          "output_type": "execute_result",
          "data": {
            "text/plain": [
              "(torch.Size([730, 24]), (480, 20))"
            ]
          },
          "metadata": {},
          "execution_count": 14
        }
      ]
    },
    {
      "cell_type": "code",
      "source": [
        "X = bikes4.view(-1, 24, bikes4.shape[1])\n",
        "X.shape"
      ],
      "metadata": {
        "colab": {
          "base_uri": "https://localhost:8080/"
        },
        "id": "_ijSFhkyIj0_",
        "outputId": "e460c382-59d6-40e1-cfe4-4d62553eee30"
      },
      "execution_count": null,
      "outputs": [
        {
          "output_type": "execute_result",
          "data": {
            "text/plain": [
              "torch.Size([730, 24, 18])"
            ]
          },
          "metadata": {},
          "execution_count": 15
        }
      ]
    },
    {
      "cell_type": "code",
      "source": [
        "X = X.transpose(1, 2)"
      ],
      "metadata": {
        "id": "k1XNuBV3JnVy"
      },
      "execution_count": null,
      "outputs": []
    },
    {
      "cell_type": "code",
      "source": [
        "X.shape, X.stride()"
      ],
      "metadata": {
        "colab": {
          "base_uri": "https://localhost:8080/"
        },
        "id": "-IF90UoWJ1WJ",
        "outputId": "c1dac57f-5978-43b5-935e-48ee2c839c01"
      },
      "execution_count": null,
      "outputs": [
        {
          "output_type": "execute_result",
          "data": {
            "text/plain": [
              "(torch.Size([730, 18, 24]), (432, 1, 18))"
            ]
          },
          "metadata": {},
          "execution_count": 31
        }
      ]
    },
    {
      "cell_type": "code",
      "source": [
        "# this means n samples = 730, corresponds to 730 days"
      ],
      "metadata": {
        "id": "jEg7Q6PxJ2eq"
      },
      "execution_count": null,
      "outputs": []
    },
    {
      "cell_type": "code",
      "source": [
        "730 * 0.8"
      ],
      "metadata": {
        "colab": {
          "base_uri": "https://localhost:8080/"
        },
        "id": "Emd6knBWKGzl",
        "outputId": "d261c31c-87ba-4b93-d3c2-278db6caf10a"
      },
      "execution_count": null,
      "outputs": [
        {
          "output_type": "execute_result",
          "data": {
            "text/plain": [
              "584.0"
            ]
          },
          "metadata": {},
          "execution_count": 59
        }
      ]
    },
    {
      "cell_type": "code",
      "source": [
        "X_train, X_test = X[:584], X[584:]\n",
        "y_train, y_test = y[:584], y[584:]"
      ],
      "metadata": {
        "id": "Tx3Ic4jMKI3b"
      },
      "execution_count": null,
      "outputs": []
    },
    {
      "cell_type": "code",
      "source": [
        "X_train.shape, X_test.shape, y_train.shape, y_test.shape"
      ],
      "metadata": {
        "colab": {
          "base_uri": "https://localhost:8080/"
        },
        "id": "LOflcFbeKWRg",
        "outputId": "f54c07fc-6da1-4d8f-b30e-a99e6c88fe5f"
      },
      "execution_count": null,
      "outputs": [
        {
          "output_type": "execute_result",
          "data": {
            "text/plain": [
              "(torch.Size([584, 18, 24]),\n",
              " torch.Size([146, 18, 24]),\n",
              " torch.Size([584, 24]),\n",
              " torch.Size([146, 24]))"
            ]
          },
          "metadata": {},
          "execution_count": 18
        }
      ]
    },
    {
      "cell_type": "code",
      "source": [
        "X_train.reshape(584,-1).shape"
      ],
      "metadata": {
        "colab": {
          "base_uri": "https://localhost:8080/"
        },
        "id": "SP9JodDJfLGZ",
        "outputId": "c1c82e8f-ca47-4d1e-a012-7a303c92c38d"
      },
      "execution_count": null,
      "outputs": [
        {
          "output_type": "execute_result",
          "data": {
            "text/plain": [
              "torch.Size([584, 432])"
            ]
          },
          "metadata": {},
          "execution_count": 19
        }
      ]
    },
    {
      "cell_type": "code",
      "source": [
        "X_train2 = X_train.reshape(584,-1)\n",
        "y_train2 = y_train.reshape(584,-1)\n",
        "X_test2 = X_test.reshape(146,-1)\n",
        "y_test2 = y_test.reshape(146,-1)"
      ],
      "metadata": {
        "id": "exPnm3Q6fdk5"
      },
      "execution_count": null,
      "outputs": []
    },
    {
      "cell_type": "code",
      "source": [
        "X_train2.shape, X_test2.shape, y_train2.shape, y_test2.shape"
      ],
      "metadata": {
        "colab": {
          "base_uri": "https://localhost:8080/"
        },
        "id": "WSrYrzZEfxdE",
        "outputId": "4dc2669f-a355-4b21-becc-881e92629b4d"
      },
      "execution_count": null,
      "outputs": [
        {
          "output_type": "execute_result",
          "data": {
            "text/plain": [
              "(torch.Size([584, 432]),\n",
              " torch.Size([146, 432]),\n",
              " torch.Size([584, 24]),\n",
              " torch.Size([146, 24]))"
            ]
          },
          "metadata": {},
          "execution_count": 22
        }
      ]
    },
    {
      "cell_type": "code",
      "source": [
        "X_train2.dtype, X_test2.dtype, y_train2.dtype, y_test2.dtype"
      ],
      "metadata": {
        "colab": {
          "base_uri": "https://localhost:8080/"
        },
        "id": "8s-9efo9hDwq",
        "outputId": "4b251a1e-3f23-4a87-cfd9-d0a5c72947aa"
      },
      "execution_count": null,
      "outputs": [
        {
          "output_type": "execute_result",
          "data": {
            "text/plain": [
              "(torch.float32, torch.float32, torch.float32, torch.float32)"
            ]
          },
          "metadata": {},
          "execution_count": 21
        }
      ]
    },
    {
      "cell_type": "markdown",
      "source": [
        "Two neural networks: one that converges, one that does not"
      ],
      "metadata": {
        "id": "Lp81TuKZbhDu"
      }
    },
    {
      "cell_type": "code",
      "source": [
        "class BikesRentalForecastBasicNetworkConverge(torch.nn.Module):\n",
        "    def __init__(self):\n",
        "      super().__init__()\n",
        "      self.flatten = torch.nn.Flatten()\n",
        "      self.linear_relu_stack = torch.nn.Sequential(\n",
        "          torch.nn.Linear(432, 64, dtype=torch.float32),\n",
        "          torch.nn.ReLU(),\n",
        "          torch.nn.Linear(64, 24, dtype=torch.float32),\n",
        "        )\n",
        "\n",
        "    def forward(self, x):\n",
        "      logits = self.linear_relu_stack(x)\n",
        "      return logits"
      ],
      "metadata": {
        "id": "Bg25Kmtsf32t"
      },
      "execution_count": null,
      "outputs": []
    },
    {
      "cell_type": "code",
      "source": [
        "class BikesRentalForecastBasicNetworkDiverge(torch.nn.Module):\n",
        "    def __init__(self):\n",
        "      super().__init__()\n",
        "      self.flatten = torch.nn.Flatten()\n",
        "      self.linear_relu_stack = torch.nn.Sequential(\n",
        "          torch.nn.Linear(432, 128, dtype=torch.float32),\n",
        "          torch.nn.ReLU(),\n",
        "          torch.nn.Linear(128, 64, dtype=torch.float32),\n",
        "          torch.nn.ReLU(),\n",
        "          torch.nn.Linear(64, 24, dtype=torch.float32),\n",
        "        )\n",
        "\n",
        "    def forward(self, x):\n",
        "      logits = self.linear_relu_stack(x)\n",
        "      return logits"
      ],
      "metadata": {
        "id": "QuTAgJwd7qkp"
      },
      "execution_count": null,
      "outputs": []
    },
    {
      "cell_type": "code",
      "source": [
        "model = BikesRentalForecastBasicNetworkConverge()\n",
        "#model = BikesRentalForecastBasicNetworkDiverge()\n",
        "print(model)"
      ],
      "metadata": {
        "colab": {
          "base_uri": "https://localhost:8080/"
        },
        "id": "did4bc97gE86",
        "outputId": "47827b32-2c9c-4a52-930c-becdce71d85c"
      },
      "execution_count": null,
      "outputs": [
        {
          "output_type": "stream",
          "name": "stdout",
          "text": [
            "BikesRentalForecastBasicNetworkConverge(\n",
            "  (flatten): Flatten(start_dim=1, end_dim=-1)\n",
            "  (linear_relu_stack): Sequential(\n",
            "    (0): Linear(in_features=432, out_features=64, bias=True)\n",
            "    (1): ReLU()\n",
            "    (2): Linear(in_features=64, out_features=24, bias=True)\n",
            "  )\n",
            ")\n"
          ]
        }
      ]
    },
    {
      "cell_type": "code",
      "source": [
        "X_train2[0].shape"
      ],
      "metadata": {
        "colab": {
          "base_uri": "https://localhost:8080/"
        },
        "id": "ZpNMPFvU8Vt3",
        "outputId": "20b414d2-90a3-4bef-f757-e686f844e072"
      },
      "execution_count": null,
      "outputs": [
        {
          "output_type": "execute_result",
          "data": {
            "text/plain": [
              "torch.Size([432])"
            ]
          },
          "metadata": {},
          "execution_count": 25
        }
      ]
    },
    {
      "cell_type": "code",
      "source": [
        "# outputs 24 numbers, as requested by the configured neural network\n",
        "_ = model(X_train2[0]);\n",
        "_, _.shape"
      ],
      "metadata": {
        "colab": {
          "base_uri": "https://localhost:8080/"
        },
        "id": "g_yllw408o_4",
        "outputId": "c39f99bb-1ee1-4350-f58d-29728e750787"
      },
      "execution_count": null,
      "outputs": [
        {
          "output_type": "execute_result",
          "data": {
            "text/plain": [
              "(tensor([-1.4275, -0.0107, -0.6042,  0.5744, -0.7822,  0.2422,  0.8052,  0.8522,\n",
              "         -0.9938,  0.6198, -0.8659, -0.0663, -0.9315,  0.0805, -0.5541,  1.5524,\n",
              "          0.1771,  1.9539, -0.2971,  0.6933,  1.0109, -0.1232, -0.1701, -1.0988],\n",
              "        grad_fn=<ViewBackward0>),\n",
              " torch.Size([24]))"
            ]
          },
          "metadata": {},
          "execution_count": 82
        }
      ]
    },
    {
      "cell_type": "code",
      "source": [
        "# time series contain 24 numbers as well, seems to match\n",
        "y_train2[0].shape"
      ],
      "metadata": {
        "colab": {
          "base_uri": "https://localhost:8080/"
        },
        "id": "gKKBK4ea9GC7",
        "outputId": "75faace1-88a8-42db-943f-40ecf90a2720"
      },
      "execution_count": null,
      "outputs": [
        {
          "output_type": "execute_result",
          "data": {
            "text/plain": [
              "torch.Size([24])"
            ]
          },
          "metadata": {},
          "execution_count": 83
        }
      ]
    },
    {
      "cell_type": "code",
      "source": [
        "# not appropriate here, we are doing linear regression, not logistic regression\n",
        "#loss_func = F.cross_entropy"
      ],
      "metadata": {
        "id": "UoZ7w1E19kZ0"
      },
      "execution_count": null,
      "outputs": []
    },
    {
      "cell_type": "code",
      "source": [
        "loss_func = torch.nn.MSELoss()"
      ],
      "metadata": {
        "id": "yJWl8Gj8Wndf"
      },
      "execution_count": null,
      "outputs": []
    },
    {
      "cell_type": "code",
      "source": [
        "# adapted for time series and linear regression\n",
        "# that is, it returns True if error within a given bound\n",
        "# this is not used to train the model\n",
        "def accuracy(out, yb, maxErr=3, verbose=False):\n",
        "  if verbose:\n",
        "    print(out.shape)\n",
        "    print(yb.shape)\n",
        "  # mean over the 24 days\n",
        "  diff = (abs(out - yb) < maxErr).float().mean(axis=1)\n",
        "  if verbose:\n",
        "    print(diff.shape)\n",
        "  # mean per time series, and then over all samples\n",
        "  #return diff.astype(float).mean(axis=1).mean()\n",
        "  return diff.mean()"
      ],
      "metadata": {
        "id": "x4ZHv6OAw9z9"
      },
      "execution_count": null,
      "outputs": []
    },
    {
      "cell_type": "code",
      "source": [
        "loss_func(model(X_train2[0]), y_train2[0])"
      ],
      "metadata": {
        "colab": {
          "base_uri": "https://localhost:8080/"
        },
        "id": "iNXwUsd488um",
        "outputId": "fdefcf22-3c5b-40c1-a86b-e8745502e42a"
      },
      "execution_count": null,
      "outputs": [
        {
          "output_type": "execute_result",
          "data": {
            "text/plain": [
              "tensor(2898.7146, grad_fn=<MseLossBackward0>)"
            ]
          },
          "metadata": {},
          "execution_count": 34
        }
      ]
    },
    {
      "cell_type": "code",
      "source": [
        "loss_func(model(X_train2), y_train2)"
      ],
      "metadata": {
        "id": "_bKe-rj8-KyB",
        "outputId": "f2eedfb5-d268-4672-8d2f-2d9bc23cf18f",
        "colab": {
          "base_uri": "https://localhost:8080/"
        }
      },
      "execution_count": null,
      "outputs": [
        {
          "output_type": "execute_result",
          "data": {
            "text/plain": [
              "tensor(59233.4023, grad_fn=<MseLossBackward0>)"
            ]
          },
          "metadata": {},
          "execution_count": 35
        }
      ]
    },
    {
      "cell_type": "code",
      "source": [
        "accuracy(model(X_train2), y_train2)"
      ],
      "metadata": {
        "colab": {
          "base_uri": "https://localhost:8080/"
        },
        "id": "_9Wlbxnq0jAK",
        "outputId": "47d0ea99-5a29-4b25-edf6-387cea52ec5d"
      },
      "execution_count": null,
      "outputs": [
        {
          "output_type": "execute_result",
          "data": {
            "text/plain": [
              "tensor(0.0114)"
            ]
          },
          "metadata": {},
          "execution_count": 57
        }
      ]
    },
    {
      "cell_type": "code",
      "source": [
        "_ = model(X_train2[0]);\n",
        "accuracy(_.unsqueeze(1), y_train2[0].unsqueeze(1))"
      ],
      "metadata": {
        "colab": {
          "base_uri": "https://localhost:8080/"
        },
        "id": "yvxrIFwLyAlu",
        "outputId": "379ef454-2ce4-438c-aba2-f1bdecd4ae70"
      },
      "execution_count": null,
      "outputs": [
        {
          "output_type": "execute_result",
          "data": {
            "text/plain": [
              "tensor(0.1250)"
            ]
          },
          "metadata": {},
          "execution_count": 58
        }
      ]
    },
    {
      "cell_type": "code",
      "source": [
        "#def log_softmax(x):\n",
        "#  return x - x.exp().sum(-1).log().unsqueeze(-1)\n",
        "\n",
        "#def model(xb):\n",
        "#  return log_softmax(xb @ weights + bias)\n",
        "\n",
        "#def nll(input, target):\n",
        "#  return -input[range(target.shape[0]), target].mean()\n",
        "\n",
        "#loss_func = nll\n",
        "\n",
        "#def accuracy(out, yb):\n",
        "#  preds = torch.argmax(out, dim=1)\n",
        "#  return (preds == yb).float().mean()"
      ],
      "metadata": {
        "id": "AzAfzp53gos_"
      },
      "execution_count": null,
      "outputs": []
    },
    {
      "cell_type": "code",
      "source": [
        "loss_func(model(X_train2), y_train2)"
      ],
      "metadata": {
        "colab": {
          "base_uri": "https://localhost:8080/"
        },
        "id": "gijgqBMMFHyZ",
        "outputId": "13c2dc1c-63f4-49c6-bf01-5bf6006fb7cb"
      },
      "execution_count": null,
      "outputs": [
        {
          "output_type": "execute_result",
          "data": {
            "text/plain": [
              "tensor(57646.1172, grad_fn=<MseLossBackward0>)"
            ]
          },
          "metadata": {},
          "execution_count": 96
        }
      ]
    },
    {
      "cell_type": "code",
      "source": [
        "model(X_train2).shape, y_train2.shape"
      ],
      "metadata": {
        "colab": {
          "base_uri": "https://localhost:8080/"
        },
        "id": "Ld-SAVbSFQR3",
        "outputId": "1f9e57e2-7a90-4ac3-d98a-206c4830a009"
      },
      "execution_count": null,
      "outputs": [
        {
          "output_type": "execute_result",
          "data": {
            "text/plain": [
              "(torch.Size([584, 24]), torch.Size([584, 24]))"
            ]
          },
          "metadata": {},
          "execution_count": 41
        }
      ]
    },
    {
      "cell_type": "code",
      "source": [
        "model(X_train2)[:10].shape"
      ],
      "metadata": {
        "id": "94QV-zqeFXeW",
        "colab": {
          "base_uri": "https://localhost:8080/"
        },
        "outputId": "a38bd8ca-1be5-4a66-ca13-b09add6c79b2"
      },
      "execution_count": null,
      "outputs": [
        {
          "output_type": "execute_result",
          "data": {
            "text/plain": [
              "torch.Size([10, 24])"
            ]
          },
          "metadata": {},
          "execution_count": 43
        }
      ]
    },
    {
      "cell_type": "code",
      "source": [
        "accuracy(model(X_train2), y_train2)"
      ],
      "metadata": {
        "colab": {
          "base_uri": "https://localhost:8080/"
        },
        "id": "L0V_CKbiFNGI",
        "outputId": "f86cf977-1b73-4c61-8218-024effe55e1a"
      },
      "execution_count": null,
      "outputs": [
        {
          "output_type": "execute_result",
          "data": {
            "text/plain": [
              "tensor(0.0343)"
            ]
          },
          "metadata": {},
          "execution_count": 44
        }
      ]
    },
    {
      "cell_type": "code",
      "source": [
        "print(\n",
        "    loss_func(model(X_train2), y_train2).item(), accuracy(model(X_train2), y_train2).item(),\n",
        "    \"\\n\",\n",
        "    loss_func(model(X_test2), y_test2).item(), accuracy(model(X_test2), y_test2).item()\n",
        "    )"
      ],
      "metadata": {
        "colab": {
          "base_uri": "https://localhost:8080/"
        },
        "id": "HNwccG1qgW5G",
        "outputId": "41c3574b-26ba-4c6f-8090-148266d817ec"
      },
      "execution_count": null,
      "outputs": [
        {
          "output_type": "stream",
          "name": "stdout",
          "text": [
            "58478.953125 0.03667237609624863 \n",
            " 111178.375 0.01912100613117218\n"
          ]
        }
      ]
    },
    {
      "cell_type": "code",
      "source": [
        "model(X_train2).shape"
      ],
      "metadata": {
        "colab": {
          "base_uri": "https://localhost:8080/"
        },
        "id": "jt8TPXkUg5np",
        "outputId": "24ae22a1-9bc3-44c3-862d-4c57938effb9"
      },
      "execution_count": null,
      "outputs": [
        {
          "output_type": "execute_result",
          "data": {
            "text/plain": [
              "torch.Size([584, 24])"
            ]
          },
          "metadata": {},
          "execution_count": 63
        }
      ]
    },
    {
      "cell_type": "code",
      "source": [
        "optimizer = torch.optim.SGD(model.parameters(), lr=1e-3)"
      ],
      "metadata": {
        "id": "URlmPoXXkE2E"
      },
      "execution_count": null,
      "outputs": []
    },
    {
      "cell_type": "code",
      "source": [
        "trainingLosses = []\n",
        "validationLosses = []"
      ],
      "metadata": {
        "id": "F6jR_9KidPMb"
      },
      "execution_count": null,
      "outputs": []
    },
    {
      "cell_type": "code",
      "source": [
        "# beginner_source\\basics\\quickstart_tutorial.py\n",
        "# without sending objects to gpu\n",
        "def train(X, y, model, loss_fn, optimizer):\n",
        "  size = len(X)\n",
        "  model.train()\n",
        "\n",
        "  # batches of 1 here\n",
        "  for batch, (_X, _y) in enumerate(zip(X, y)):\n",
        "    pred_train = model(_X)\n",
        "    loss_train = loss_fn(pred_train, _y)\n",
        "\n",
        "    loss_train.backward()\n",
        "    optimizer.step()\n",
        "    optimizer.zero_grad()\n",
        "\n",
        "    pred_test = model(X_test2)\n",
        "    loss_test = loss_fn(pred_test, y_test2)\n",
        "\n",
        "    trainingLosses.append(loss_train.detach().numpy())\n",
        "    validationLosses.append(loss_test.detach().numpy())\n",
        "\n",
        "    if batch % 100 == 0:\n",
        "      #loss, current = loss.item(), (batch + 1) * len(_X)\n",
        "      loss_train, current = loss_train.item(), (batch + 1)\n",
        "      print(f\"loss: {loss_train:>7f}  [{current:>5d}/{size:>5d}]\")"
      ],
      "metadata": {
        "id": "rV2dPriqU-tD"
      },
      "execution_count": null,
      "outputs": []
    },
    {
      "cell_type": "code",
      "source": [
        "# we obtain a loss at the start, and then we lose it to nan right away\n",
        "epochs = 5\n",
        "for t in range(epochs):\n",
        "  print(f\"Epoch {t+1}\\n-------------------------------\")\n",
        "  train(X_train2, y_train2, model, loss_func, optimizer)\n",
        "print(\"Done!\")"
      ],
      "metadata": {
        "colab": {
          "base_uri": "https://localhost:8080/"
        },
        "id": "SrLI_1LaVLQV",
        "outputId": "7127d887-d9d7-4bf1-c6fa-86621543f336"
      },
      "execution_count": null,
      "outputs": [
        {
          "output_type": "stream",
          "name": "stdout",
          "text": [
            "Epoch 1\n",
            "-------------------------------\n",
            "loss: 2851.117188  [    1/  584]\n",
            "loss: 33569.386719  [  101/  584]\n",
            "loss: 53357.339844  [  201/  584]\n",
            "loss: 39107.308594  [  301/  584]\n",
            "loss: 24440.396484  [  401/  584]\n",
            "loss: 84004.679688  [  501/  584]\n",
            "Epoch 2\n",
            "-------------------------------\n",
            "loss: 2192.225586  [    1/  584]\n",
            "loss: 30480.021484  [  101/  584]\n",
            "loss: 49075.500000  [  201/  584]\n",
            "loss: 35391.574219  [  301/  584]\n",
            "loss: 21918.203125  [  401/  584]\n",
            "loss: 78720.492188  [  501/  584]\n",
            "Epoch 3\n",
            "-------------------------------\n",
            "loss: 1631.231079  [    1/  584]\n",
            "loss: 27321.640625  [  101/  584]\n",
            "loss: 45173.535156  [  201/  584]\n",
            "loss: 32031.750000  [  301/  584]\n",
            "loss: 19692.253906  [  401/  584]\n",
            "loss: 73860.835938  [  501/  584]\n",
            "Epoch 4\n",
            "-------------------------------\n",
            "loss: 1267.991577  [    1/  584]\n",
            "loss: 24481.572266  [  101/  584]\n",
            "loss: 41622.421875  [  201/  584]\n",
            "loss: 28994.291016  [  301/  584]\n",
            "loss: 17732.115234  [  401/  584]\n",
            "loss: 69389.445312  [  501/  584]\n",
            "Epoch 5\n",
            "-------------------------------\n",
            "loss: 1077.241821  [    1/  584]\n",
            "loss: 21929.085938  [  101/  584]\n",
            "loss: 38390.136719  [  201/  584]\n",
            "loss: 26248.775391  [  301/  584]\n",
            "loss: 16010.309570  [  401/  584]\n",
            "loss: 65273.277344  [  501/  584]\n",
            "Done!\n"
          ]
        }
      ]
    },
    {
      "cell_type": "code",
      "source": [
        "# previous run\n",
        "print(\n",
        "    loss_func(model(X_train2), y_train2).item(), accuracy(model(X_train2), y_train2).item(),\n",
        "    \"\\n\",\n",
        "    loss_func(model(X_test2), y_test2).item(), accuracy(model(X_test2), y_test2).item()\n",
        "    )"
      ],
      "metadata": {
        "colab": {
          "base_uri": "https://localhost:8080/"
        },
        "id": "sV79-UovVTT6",
        "outputId": "257fc6a6-e1e1-43e2-d6b0-2859d0e4a02c"
      },
      "execution_count": null,
      "outputs": [
        {
          "output_type": "stream",
          "name": "stdout",
          "text": [
            "41224.7109375 0.08725742250680923 \n",
            " 85286.8515625 0.04708904027938843\n"
          ]
        }
      ]
    },
    {
      "cell_type": "markdown",
      "source": [
        "# Plotting the evolution of losses as the learning process goes"
      ],
      "metadata": {
        "id": "s9eDK7oUbWTs"
      }
    },
    {
      "cell_type": "code",
      "source": [
        "import matplotlib.pyplot as plt"
      ],
      "metadata": {
        "id": "iU7cLxS3XMjb"
      },
      "execution_count": null,
      "outputs": []
    },
    {
      "cell_type": "code",
      "source": [
        "plt.figure(figsize=(10,5))\n",
        "plt.title(\"Training and Validation Loss\")\n",
        "plt.plot(trainingLosses,label=\"train\")\n",
        "plt.plot(validationLosses,label=\"val\")\n",
        "plt.xlabel(\"iterations\")\n",
        "plt.ylabel(\"Loss\")\n",
        "plt.legend()\n",
        "plt.show()"
      ],
      "metadata": {
        "colab": {
          "base_uri": "https://localhost:8080/",
          "height": 487
        },
        "id": "QCXICaT3dmkF",
        "outputId": "cb0c4f16-a0bb-4371-84c1-2e080fbab25e"
      },
      "execution_count": null,
      "outputs": [
        {
          "output_type": "display_data",
          "data": {
            "text/plain": [
              "<Figure size 1000x500 with 1 Axes>"
            ],
            "image/png": "[encoded data removed]"
          },
          "metadata": {}
        }
      ]
    },
    {
      "cell_type": "code",
      "source": [
        "# accidental typo here, but somehow seems to work better\n",
        "trainingLosses2 = [ x if x < 1e3 else 1e2 for x in trainingLosses ]\n",
        "validationLosses2 = [ x if x < 1e3 else 1e3 for x in validationLosses ]"
      ],
      "metadata": {
        "id": "iaVkI41leD18"
      },
      "execution_count": null,
      "outputs": []
    },
    {
      "cell_type": "code",
      "source": [
        "plt.figure(figsize=(10,5))\n",
        "plt.title(\"Training and Validation Loss\")\n",
        "plt.plot(trainingLosses2,label=\"train\")\n",
        "plt.plot(validationLosses2,label=\"val\")\n",
        "plt.xlabel(\"iterations\")\n",
        "plt.ylabel(\"Loss\")\n",
        "plt.legend()\n",
        "plt.show()"
      ],
      "metadata": {
        "colab": {
          "base_uri": "https://localhost:8080/",
          "height": 487
        },
        "id": "UwOsnOhaesLH",
        "outputId": "c01a2c0f-fb44-43d2-e528-116e8f6c3a2b"
      },
      "execution_count": null,
      "outputs": [
        {
          "output_type": "display_data",
          "data": {
            "text/plain": [
              "<Figure size 1000x500 with 1 Axes>"
            ],
            "image/png": "[encoded data removed]"
          },
          "metadata": {}
        }
      ]
    },
    {
      "cell_type": "markdown",
      "source": [
        "# Identifying the most critical weights in the process of forecasting"
      ],
      "metadata": {
        "id": "A_n0sz8cbOFO"
      }
    },
    {
      "cell_type": "code",
      "source": [
        "model.linear_relu_stack"
      ],
      "metadata": {
        "colab": {
          "base_uri": "https://localhost:8080/"
        },
        "id": "Lvuta64sfICZ",
        "outputId": "c5f4124e-f097-4a8f-b34b-2048ac36fd43"
      },
      "execution_count": null,
      "outputs": [
        {
          "output_type": "execute_result",
          "data": {
            "text/plain": [
              "Sequential(\n",
              "  (0): Linear(in_features=432, out_features=64, bias=True)\n",
              "  (1): ReLU()\n",
              "  (2): Linear(in_features=64, out_features=24, bias=True)\n",
              ")"
            ]
          },
          "metadata": {},
          "execution_count": 77
        }
      ]
    },
    {
      "cell_type": "code",
      "source": [
        "# weights are a matrix that gets multiplied by vectors, aka samples\n",
        "weights = model.linear_relu_stack[0].weight.detach().numpy()\n",
        "weights.shape"
      ],
      "metadata": {
        "id": "IZDRMdufgSki",
        "colab": {
          "base_uri": "https://localhost:8080/"
        },
        "outputId": "81fd482e-23c0-4245-c43b-4906d3e05ef3"
      },
      "execution_count": null,
      "outputs": [
        {
          "output_type": "execute_result",
          "data": {
            "text/plain": [
              "(64, 432)"
            ]
          },
          "metadata": {},
          "execution_count": 37
        }
      ]
    },
    {
      "cell_type": "code",
      "source": [
        "I = [ (i, j) for i,j in zip(range(weights.shape[0]), range(weights.shape[1])) if abs(weights[i,j]) > 1 ]\n",
        "I"
      ],
      "metadata": {
        "colab": {
          "base_uri": "https://localhost:8080/"
        },
        "id": "z4OBglgYmWAZ",
        "outputId": "82a80601-e2ef-4b50-86d4-d0d99acb79db"
      },
      "execution_count": null,
      "outputs": [
        {
          "output_type": "execute_result",
          "data": {
            "text/plain": [
              "[(5, 5), (14, 14), (18, 18), (42, 42)]"
            ]
          },
          "metadata": {},
          "execution_count": 35
        }
      ]
    },
    {
      "cell_type": "code",
      "source": [
        "[ weights[I[i][0], I[i][1]] for i in range(len(I))]"
      ],
      "metadata": {
        "colab": {
          "base_uri": "https://localhost:8080/"
        },
        "id": "9Lx60hUEnIPp",
        "outputId": "f9791386-a0de-4543-c97e-8cc93c3df554"
      },
      "execution_count": null,
      "outputs": [
        {
          "output_type": "execute_result",
          "data": {
            "text/plain": [
              "[-1.1870724, -4.3302116, -89.337105, -9.184773]"
            ]
          },
          "metadata": {},
          "execution_count": 36
        }
      ]
    },
    {
      "cell_type": "code",
      "source": [
        "bias = model.linear_relu_stack[0].bias.detach().numpy()\n",
        "bias.shape"
      ],
      "metadata": {
        "colab": {
          "base_uri": "https://localhost:8080/"
        },
        "id": "SYt1dvrankS6",
        "outputId": "580769e1-098d-4677-df11-18a80c939e43"
      },
      "execution_count": null,
      "outputs": [
        {
          "output_type": "execute_result",
          "data": {
            "text/plain": [
              "(64,)"
            ]
          },
          "metadata": {},
          "execution_count": 38
        }
      ]
    },
    {
      "cell_type": "code",
      "source": [
        "J = [ j for j in range(bias.shape[0]) if abs(bias[j]) > 1 ]\n",
        "J"
      ],
      "metadata": {
        "id": "FcJQ-A7QhZfl",
        "colab": {
          "base_uri": "https://localhost:8080/"
        },
        "outputId": "c2c7c074-8455-44f3-a7c4-c395afff4112"
      },
      "execution_count": null,
      "outputs": [
        {
          "output_type": "execute_result",
          "data": {
            "text/plain": [
              "[18, 42, 58]"
            ]
          },
          "metadata": {},
          "execution_count": 40
        }
      ]
    },
    {
      "cell_type": "code",
      "source": [
        "[ bias[J[j]] for j in range(len(J))]"
      ],
      "metadata": {
        "colab": {
          "base_uri": "https://localhost:8080/"
        },
        "id": "liSJ0ND3TvWs",
        "outputId": "510ffa32-6aee-4df1-d2f4-079a97d4f095"
      },
      "execution_count": null,
      "outputs": [
        {
          "output_type": "execute_result",
          "data": {
            "text/plain": [
              "[-12.7514105, -2.2481642, -132.57063]"
            ]
          },
          "metadata": {},
          "execution_count": 41
        }
      ]
    },
    {
      "cell_type": "code",
      "source": [],
      "metadata": {
        "id": "G82H4m21T8K2"
      },
      "execution_count": null,
      "outputs": []
    }
  ]
}